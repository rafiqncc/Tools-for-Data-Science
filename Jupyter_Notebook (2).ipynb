﻿{
 "cells": [
  {
   "cell_type": "markdown",
   "id": "24d1c306-6d74-4654-becd-4916e3a754b8",
   "metadata": {},
   "source": [
    "My Jupyter Notebook on IBM Watson Studio"
   ]
  },
  {
   "cell_type": "markdown",
   "id": "cc4f0117-457f-4b1a-b6c9-484ef9be724f",
   "metadata": {},
   "source": [
    "Mohammad Rafiqul Islam\n",
    "\n",
    "I want to be a Data Scientist"
   ]
  },
  {
   "cell_type": "markdown",
   "id": "42e7d448-e5ea-47ee-9ef5-4d05301b0f39",
   "metadata": {},
   "source": [
    "I am interested in data science because Data science is a career path with tremendous potential for upward movement and job growth, and it is considered to be one of the best jobs in the world  . As more businesses expand into big data, machine learning, and artificial intelligence, the market for data scientists will only continue to grow."
   ]
  },
  {
   "cell_type": "markdown",
   "id": "45f892a7-9d76-4422-83d9-dfa3cc6b7a1b",
   "metadata": {},
   "source": [
    "The following code multiply two numbers."
   ]
  },
  {
   "cell_type": "code",
   "execution_count": null,
   "id": "dfc2bbcb-9a1d-477b-9d47-ad58e97673dd",
   "metadata": {},
   "outputs": [],
   "source": [
    " x = 5. y = 10. print(x + y)"
   ]
  },
  {
   "cell_type": "markdown",
   "id": "87fb4ce1-301c-4158-a4ab-ff3bb4a58400",
   "metadata": {},
   "source": [
    "•\tHellow World \n",
    "\n",
    "https://www.facebook.com/\n",
    "\n",
    "import random target_num,guess_num = random. randint(1, 10), 0 while target_num != guess_num: guess_num = int(input('Guess a number between 1 and 10 until you get it right : ')) print('Well guessed!')\n"
   ]
  }
 ],
 "metadata": {
  "kernelspec": {
   "display_name": "Python",
   "language": "python",
   "name": "conda-env-python-py"
  },
  "language_info": {
   "codemirror_mode": {
    "name": "ipython",
    "version": 3
   },
   "file_extension": ".py",
   "mimetype": "text/x-python",
   "name": "python",
   "nbconvert_exporter": "python",
   "pygments_lexer": "ipython3",
   "version": "3.7.12"
  }
 },
 "nbformat": 4,
 "nbformat_minor": 5
}
